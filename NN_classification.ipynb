{
 "cells": [
  {
   "cell_type": "code",
   "execution_count": 1,
   "id": "8122ff68",
   "metadata": {},
   "outputs": [],
   "source": [
    "import numpy as np\n",
    "import math as math\n",
    "import matplotlib.pyplot as plt"
   ]
  },
  {
   "cell_type": "code",
   "execution_count": 2,
   "id": "a9fad262",
   "metadata": {},
   "outputs": [],
   "source": [
    "def create_data(n):\n",
    "    '''\n",
    "    returns data of n random points around centers (1,1) and (-1,-1) each\n",
    "    points aroung (1,1): label 1\n",
    "    points aroung (-1,-1): label 0\n",
    "    '''\n",
    "    \n",
    "    c1 = np.random.normal(1, 0.5, (50, 2))\n",
    "    c1 = np.hstack((c1, np.ones((50,1))))\n",
    "\n",
    "    c2 = np.random.normal(-1, 0.5, (50, 2))\n",
    "    c2 = np.hstack((c2, np.zeros((50,1))))\n",
    "\n",
    "    data = np.vstack((c1, c2))\n",
    "    return data"
   ]
  },
  {
   "cell_type": "code",
   "execution_count": 3,
   "id": "8dfd4cae",
   "metadata": {},
   "outputs": [],
   "source": [
    "def sig_act(s):\n",
    "    return 1.0/(1.0+math.exp(-s))\n",
    "\n",
    "def sig_act_prime(s):\n",
    "    return math.exp(-s)/(1.0+math.exp(-s))**2\n",
    "\n",
    "def p_force(theta):\n",
    "\n",
    "# Calculate negative gradient of L2 loss function (and the loss) for \n",
    "# a two input function modelled with a two layer (2 hidden node) network\n",
    "# using sigmoidal activation\n",
    "# input - parameter vector *theta*\n",
    "# output - negative gradient of L2 loss *F* and *loss*\n",
    "\n",
    "    #change to weight, bias notation\n",
    "    w11 = theta[0]; w12 = theta[1]; w21 = theta[2]; w22 =theta[3]\n",
    "    w31 = theta[4]; w32 = theta[5]; b1 = theta[6]; b2=theta[7]; b3=theta[8]\n",
    "    g = np.zeros((9,1));           # g = gradient - start with a zero vector \n",
    "    loss = 0                       # training loss\n",
    "\n",
    "    for i in range(len(tdata)):\n",
    "        x1 = tdata[i][0]; x2 = tdata[i][1]; c = tdata[i][2];\n",
    "   \n",
    "        # calculate intermediates and output of network\n",
    "        u1 = w11*x1 + w12*x2 + b1\n",
    "        u2 = w21*x1 + w22*x2 + b2\n",
    "      \n",
    "        z1 = sig_act(u1)            # hidden node outputs\n",
    "        z2 = sig_act(u2)\n",
    "        u3 = w31*z1 + w32*z2 +b3    # 2nd layer\n",
    "        \n",
    "        out = sig_act(u3)\n",
    "        res = c-out\n",
    "        loss = loss + res**2        # update the L2 loss\n",
    "        \n",
    "        # now calculate the loss gradient components in reverse order\n",
    "        h3 = -2*res*sig_act_prime(u3) \n",
    "        \n",
    "        g[8] += h3                  # deriv with respect to bias b3\n",
    "        g[5] += h3*z2               # wrt w32\n",
    "        g[4] += h3*z1               # wrt w31\n",
    "        \n",
    "        h2 = h3* sig_act_prime(u2)  # multipliers\n",
    "        h1 = h3* sig_act_prime(u1)\n",
    "        \n",
    "        g[7] += h2*w32              # wrt b2\n",
    "        g[6] += h1*w31              # wrt b1\n",
    "        g[3] += h2*w32*x2           # wrt w22\n",
    "        g[2] += h2*w32*x1           # wrt w21\n",
    "        g[1] += h1*w31*x2           # wrt w12\n",
    "        g[0] += h1*w31*x1           # wrt w11\n",
    "\n",
    "# negate the gradient to get the descent direction\n",
    "\n",
    "    F = -g\n",
    "\n",
    "    return F,loss\n",
    "\n",
    "def Euler(q_n, h, vector_field):\n",
    "# computes a step using Euler's method for the given vector field\n",
    "    F,loss = vector_field(q_n)\n",
    "    return q_n + h*F, loss\n",
    "\n",
    "def compute_trajectory( q0, Nsteps, h,  step_function, vector_field):\n",
    "# computes a trajectory of length *Nsteps*\n",
    "# for a differential equation defined by *vector_field*\n",
    "# starting from a given initial condition *q0*\n",
    "# using a given method defined by *step_function*\n",
    "# with stepsize *h*\n",
    "#\n",
    "# outputs independent variable values *t_traj*, \n",
    "# trajectory *q_traj* whose jth column is the solution at time level j\n",
    "\n",
    "    # initialize trajectory\n",
    "    q_traj = [q0]; t_traj = [0]\n",
    "    F,loss = vector_field(q0)\n",
    "    loss_traj = [loss]\n",
    "\n",
    "    # starting values\n",
    "    q = q0; t = 0\n",
    "    \n",
    "    # loop\n",
    "    for n in range(Nsteps):\n",
    "        # calculate next step using provided stepping function\n",
    "        q,loss  = step_function(q, h,  vector_field)\n",
    "        t +=  h\n",
    "\n",
    "        # update trajectory\n",
    "        q_traj.append(q)\n",
    "        t_traj.append(t)\n",
    "        loss_traj.append(loss)\n",
    "\n",
    "    return q_traj, t_traj, loss_traj\n",
    "\n",
    "def p_classifier(x1,x2,theta):\n",
    "# compute 2-layer planar perceptron classifier for given inputs x1, x2\n",
    "# parameter theta: a nine component vector\n",
    "\n",
    "# change to weight, bias notation\n",
    "    w11 = theta[0]; w12 = theta[1]; w21 = theta[2]; w22 =theta[3]\n",
    "    w31 = theta[4]; w32 = theta[5]; b1 = theta[6]; b2=theta[7]; b3=theta[8]\n",
    "\n",
    "    u1 = w11*x1 + w12*x2 + b1\n",
    "    u2 = w21*x1 + w22*x2 + b2\n",
    "      \n",
    "    z1 = sig_act(u1)            # hidden node outputs\n",
    "    z2 = sig_act(u2)\n",
    "    u3 = w31*z1 + w32*z2 +b3    # 2nd layer\n",
    "        \n",
    "    \n",
    "    out = sig_act(u3)         # output\n",
    "\n",
    "    return(out)"
   ]
  },
  {
   "cell_type": "code",
   "execution_count": 4,
   "id": "298e5006",
   "metadata": {},
   "outputs": [],
   "source": [
    "tdata = create_data(50)"
   ]
  },
  {
   "cell_type": "code",
   "execution_count": 5,
   "id": "0cd1553d",
   "metadata": {},
   "outputs": [
    {
     "data": {
      "text/plain": [
       "100"
      ]
     },
     "execution_count": 5,
     "metadata": {},
     "output_type": "execute_result"
    }
   ],
   "source": [
    "len(tdata)"
   ]
  },
  {
   "cell_type": "code",
   "execution_count": 6,
   "id": "2de1f712",
   "metadata": {},
   "outputs": [
    {
     "data": {
      "text/plain": [
       "Text(0, 0.5, 'training loss')"
      ]
     },
     "execution_count": 6,
     "metadata": {},
     "output_type": "execute_result"
    },
    {
     "data": {
      "image/png": "[encoded data removed]",
      "text/plain": [
       "<Figure size 432x288 with 1 Axes>"
      ]
     },
     "metadata": {
      "needs_background": "light"
     },
     "output_type": "display_data"
    }
   ],
   "source": [
    "theta,t,loss = compute_trajectory(np.random.random((9,1)),100,.1,Euler,p_force)\n",
    "plt.plot(t,loss); plt.xlabel('time'); plt.ylabel('training loss')"
   ]
  },
  {
   "cell_type": "code",
   "execution_count": 7,
   "id": "4be6a134",
   "metadata": {
    "scrolled": true
   },
   "outputs": [
    {
     "data": {
      "text/plain": [
       "Text(0, 0.5, 'training loss')"
      ]
     },
     "execution_count": 7,
     "metadata": {},
     "output_type": "execute_result"
    },
    {
     "data": {
      "image/png": "[encoded data removed]",
      "text/plain": [
       "<Figure size 432x288 with 1 Axes>"
      ]
     },
     "metadata": {
      "needs_background": "light"
     },
     "output_type": "display_data"
    }
   ],
   "source": [
    "theta,t,loss = compute_trajectory(np.random.random((9,1)),100,1,Euler,p_force)\n",
    "plt.plot(t,loss); plt.xlabel('time'); plt.ylabel('training loss')"
   ]
  },
  {
   "cell_type": "code",
   "execution_count": null,
   "id": "9ee933e1",
   "metadata": {},
   "outputs": [],
   "source": [
    "x = data[:,1]\n",
    "\n",
    "w1"
   ]
  },
  {
   "cell_type": "code",
   "execution_count": null,
   "id": "f3c3da33",
   "metadata": {},
   "outputs": [],
   "source": [
    "p_classifier(x1,x2,theta)\n",
    "#compute loss of each training point\n",
    "#for i in range(len(tdata)):\n",
    "\n",
    "#reuse marginal_posterior - specify weight"
   ]
  }
 ],
 "metadata": {
  "kernelspec": {
   "display_name": "Python 3",
   "language": "python",
   "name": "python3"
  },
  "language_info": {
   "codemirror_mode": {
    "name": "ipython",
    "version": 3
   },
   "file_extension": ".py",
   "mimetype": "text/x-python",
   "name": "python",
   "nbconvert_exporter": "python",
   "pygments_lexer": "ipython3",
   "version": "3.8.8"
  }
 },
 "nbformat": 4,
 "nbformat_minor": 5
}
